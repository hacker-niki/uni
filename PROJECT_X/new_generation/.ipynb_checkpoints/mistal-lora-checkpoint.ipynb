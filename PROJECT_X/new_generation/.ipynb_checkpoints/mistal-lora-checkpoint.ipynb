{
 "cells": [
  {
   "cell_type": "code",
   "execution_count": null,
   "id": "09e5c261-eae1-40b1-9be6-126841a75bfd",
   "metadata": {},
   "outputs": [],
   "source": [
    "pip install transformers trl accelerate torch bitsandbytes peft datasets -U"
   ]
  },
  {
   "cell_type": "code",
   "execution_count": null,
   "id": "77c7b8e4-10f8-48f3-8a38-602cb11517d8",
   "metadata": {},
   "outputs": [],
   "source": []
  }
 ],
 "metadata": {
  "kernelspec": {
   "display_name": "Python 3 (ipykernel)",
   "language": "python",
   "name": "python3"
  },
  "language_info": {
   "codemirror_mode": {
    "name": "ipython",
    "version": 3
   },
   "file_extension": ".py",
   "mimetype": "text/x-python",
   "name": "python",
   "nbconvert_exporter": "python",
   "pygments_lexer": "ipython3",
   "version": "3.13.7"
  }
 },
 "nbformat": 4,
 "nbformat_minor": 5
}
