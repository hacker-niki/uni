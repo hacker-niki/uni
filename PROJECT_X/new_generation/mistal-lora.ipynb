{
 "cells": [
  {
   "cell_type": "code",
   "execution_count": 10,
   "id": "09e5c261-eae1-40b1-9be6-126841a75bfd",
   "metadata": {},
   "outputs": [
    {
     "name": "stdout",
     "output_type": "stream",
     "text": [
      "Requirement already satisfied: transformers in ./venv/lib/python3.13/site-packages (4.56.1)\n",
      "Requirement already satisfied: trl in ./venv/lib/python3.13/site-packages (0.23.0)\n",
      "Requirement already satisfied: accelerate in ./venv/lib/python3.13/site-packages (1.10.1)\n",
      "\u001b[31mERROR: Could not find a version that satisfies the requirement torch==2.2 (from versions: 2.5.0, 2.5.1, 2.6.0, 2.7.0, 2.7.1, 2.8.0)\u001b[0m\u001b[31m\n",
      "\u001b[0m\u001b[31mERROR: No matching distribution found for torch==2.2\u001b[0m\u001b[31m\n",
      "\u001b[0mNote: you may need to restart the kernel to use updated packages.\n"
     ]
    }
   ],
   "source": [
    "pip install transformers trl accelerate torch bitsandbytes peft datasets -U"
   ]
  },
  {
   "cell_type": "code",
   "execution_count": 1,
   "id": "77c7b8e4-10f8-48f3-8a38-602cb11517d8",
   "metadata": {},
   "outputs": [
    {
     "data": {
      "application/vnd.jupyter.widget-view+json": {
       "model_id": "2354474c279b40f1b299ab3df8e8a0df",
       "version_major": 2,
       "version_minor": 0
      },
      "text/plain": [
       "README.md: 0.00B [00:00, ?B/s]"
      ]
     },
     "metadata": {},
     "output_type": "display_data"
    },
    {
     "data": {
      "application/vnd.jupyter.widget-view+json": {
       "model_id": "de7aeee97cd547579bc95f45c160368b",
       "version_major": 2,
       "version_minor": 0
      },
      "text/plain": [
       "data/train-00000-of-00001-ce982a697ddbfc(…):   0%|          | 0.00/127M [00:00<?, ?B/s]"
      ]
     },
     "metadata": {},
     "output_type": "display_data"
    },
    {
     "data": {
      "application/vnd.jupyter.widget-view+json": {
       "model_id": "93d1215d50ef41d393cc5f1206b18604",
       "version_major": 2,
       "version_minor": 0
      },
      "text/plain": [
       "data/test-00000-of-00001-6f721353261b0bf(…):   0%|          | 0.00/10.3M [00:00<?, ?B/s]"
      ]
     },
     "metadata": {},
     "output_type": "display_data"
    },
    {
     "data": {
      "application/vnd.jupyter.widget-view+json": {
       "model_id": "1675572333f04447a63567ce958d31c2",
       "version_major": 2,
       "version_minor": 0
      },
      "text/plain": [
       "Generating train split:   0%|          | 0/56167 [00:00<?, ? examples/s]"
      ]
     },
     "metadata": {},
     "output_type": "display_data"
    },
    {
     "data": {
      "application/vnd.jupyter.widget-view+json": {
       "model_id": "670b02bb57844c3285b4398ba46e6a83",
       "version_major": 2,
       "version_minor": 0
      },
      "text/plain": [
       "Generating test split:   0%|          | 0/6807 [00:00<?, ? examples/s]"
      ]
     },
     "metadata": {},
     "output_type": "display_data"
    },
    {
     "data": {
      "text/plain": [
       "datasets.dataset_dict.DatasetDict"
      ]
     },
     "execution_count": 1,
     "metadata": {},
     "output_type": "execute_result"
    }
   ],
   "source": [
    "from datasets import load_dataset\n",
    "instruct_tune_dataset = load_dataset(\"mosaicml/instruct-v3\")\n",
    "instruct_tune_dataset\n",
    "\n",
    "type(instruct_tune_dataset)\n"
   ]
  },
  {
   "cell_type": "code",
   "execution_count": 2,
   "id": "2fa1bcd5-2612-4529-8974-7520a2dc2148",
   "metadata": {},
   "outputs": [
    {
     "data": {
      "application/vnd.jupyter.widget-view+json": {
       "model_id": "6a174b47d82a4f08b198712cb35a6ca8",
       "version_major": 2,
       "version_minor": 0
      },
      "text/plain": [
       "Filter:   0%|          | 0/56167 [00:00<?, ? examples/s]"
      ]
     },
     "metadata": {},
     "output_type": "display_data"
    },
    {
     "data": {
      "application/vnd.jupyter.widget-view+json": {
       "model_id": "183f60d8a1b54096a9a7b82bf353b689",
       "version_major": 2,
       "version_minor": 0
      },
      "text/plain": [
       "Filter:   0%|          | 0/6807 [00:00<?, ? examples/s]"
      ]
     },
     "metadata": {},
     "output_type": "display_data"
    }
   ],
   "source": [
    "instruct_tune_dataset = instruct_tune_dataset.filter(lambda x: x[\"source\"] == \"dolly_hhrlhf\")"
   ]
  },
  {
   "cell_type": "code",
   "execution_count": 3,
   "id": "52b8f7ac-1cf0-469f-a268-a02fe5ac9be8",
   "metadata": {},
   "outputs": [],
   "source": [
    "def create_prompt(sample):\n",
    "    bos_token = \"<s>\"\n",
    "    original_system_message = \"Below is an instruction that describes a task. Write a response that appropriately completes the request.\"\n",
    "    system_message = \"Use the provided input to create an instruction that could have been used to generate the response with an LLM.\"\n",
    "    response = sample[\"prompt\"].replace(original_system_message, \"\").replace(\"\\n\\n### Instruction\\n\", \"\").replace(\"\\n### Response\\n\", \"\").strip()\n",
    "    input = sample[\"response\"]\n",
    "    eos_token = \"</s>\"\n",
    "\n",
    "    full_prompt = \"\"\n",
    "    full_prompt += bos_token\n",
    "    full_prompt += \"### Instruction:\"\n",
    "    full_prompt += \"\\n\" + system_message\n",
    "    full_prompt += \"\\n\\n### Input:\"\n",
    "    full_prompt += \"\\n\" + input\n",
    "    full_prompt += \"\\n\\n### Response:\"\n",
    "    full_prompt += \"\\n\" + response\n",
    "    full_prompt += eos_token\n",
    "\n",
    "    return full_prompt"
   ]
  },
  {
   "cell_type": "code",
   "execution_count": 5,
   "id": "a470c070-de01-4d96-8c2f-4ec3472a189a",
   "metadata": {},
   "outputs": [
    {
     "ename": "NameError",
     "evalue": "name 'LoraConfig' is not defined",
     "output_type": "error",
     "traceback": [
      "\u001b[31m---------------------------------------------------------------------------\u001b[39m",
      "\u001b[31mNameError\u001b[39m                                 Traceback (most recent call last)",
      "\u001b[36mCell\u001b[39m\u001b[36m \u001b[39m\u001b[32mIn[5]\u001b[39m\u001b[32m, line 1\u001b[39m\n\u001b[32m----> \u001b[39m\u001b[32m1\u001b[39m peft_config = \u001b[43mLoraConfig\u001b[49m(\n\u001b[32m      2\u001b[39m     lora_alpha=\u001b[32m16\u001b[39m,\n\u001b[32m      3\u001b[39m     lora_dropout=\u001b[32m0.1\u001b[39m,\n\u001b[32m      4\u001b[39m     r=\u001b[32m64\u001b[39m,\n\u001b[32m      5\u001b[39m     bias=\u001b[33m\"\u001b[39m\u001b[33mnone\u001b[39m\u001b[33m\"\u001b[39m,\n\u001b[32m      6\u001b[39m     task_type=\u001b[33m\"\u001b[39m\u001b[33mCAUSAL_LM\u001b[39m\u001b[33m\"\u001b[39m\n\u001b[32m      7\u001b[39m )\n",
      "\u001b[31mNameError\u001b[39m: name 'LoraConfig' is not defined"
     ]
    }
   ],
   "source": [
    "peft_config = LoraConfig(\n",
    "    lora_alpha=16,\n",
    "    lora_dropout=0.1,\n",
    "    r=64,\n",
    "    bias=\"none\",\n",
    "    task_type=\"CAUSAL_LM\"\n",
    ")"
   ]
  },
  {
   "cell_type": "code",
   "execution_count": 7,
   "id": "9384caa0-46fd-40e7-8864-1f96e7f1d225",
   "metadata": {},
   "outputs": [
    {
     "name": "stdout",
     "output_type": "stream",
     "text": [
      "fatal: destination path 'mistral-finetune' already exists and is not an empty directory.\n"
     ]
    }
   ],
   "source": [
    "!git clone https://github.com/mistralai/mistral-finetune.git"
   ]
  },
  {
   "cell_type": "code",
   "execution_count": 12,
   "id": "be6041d2-dff2-4d1f-be32-f4f822282263",
   "metadata": {},
   "outputs": [
    {
     "name": "stdout",
     "output_type": "stream",
     "text": [
      "Collecting fire (from -r requirements.txt (line 1))\n",
      "  Using cached fire-0.7.1-py3-none-any.whl.metadata (5.8 kB)\n",
      "Collecting simple-parsing (from -r requirements.txt (line 2))\n",
      "  Using cached simple_parsing-0.1.7-py3-none-any.whl.metadata (7.3 kB)\n",
      "Requirement already satisfied: pyyaml in /home/nikita/uni/PROJECT_X/new_generation/venv/lib/python3.13/site-packages (from -r requirements.txt (line 3)) (6.0.2)\n",
      "Collecting mistral-common>=1.3.1 (from -r requirements.txt (line 4))\n",
      "  Using cached mistral_common-1.8.5-py3-none-any.whl.metadata (5.1 kB)\n",
      "Requirement already satisfied: safetensors in /home/nikita/uni/PROJECT_X/new_generation/venv/lib/python3.13/site-packages (from -r requirements.txt (line 5)) (0.6.2)\n",
      "Collecting tensorboard (from -r requirements.txt (line 6))\n",
      "  Using cached tensorboard-2.20.0-py3-none-any.whl.metadata (1.8 kB)\n",
      "Requirement already satisfied: tqdm in /home/nikita/uni/PROJECT_X/new_generation/venv/lib/python3.13/site-packages (from -r requirements.txt (line 7)) (4.67.1)\n",
      "Requirement already satisfied: torch in /home/nikita/uni/PROJECT_X/new_generation/venv/lib/python3.13/site-packages (from -r requirements.txt (line 9)) (2.8.0)\n",
      "Requirement already satisfied: triton in /home/nikita/uni/PROJECT_X/new_generation/venv/lib/python3.13/site-packages (from -r requirements.txt (line 10)) (3.4.0)\n",
      "Collecting xformers (from -r requirements.txt (line 11))\n",
      "  Downloading xformers-0.0.32.post2-cp39-abi3-manylinux_2_28_x86_64.whl.metadata (1.1 kB)\n",
      "Collecting termcolor (from fire->-r requirements.txt (line 1))\n",
      "  Downloading termcolor-3.1.0-py3-none-any.whl.metadata (6.4 kB)\n",
      "Collecting docstring-parser<1.0,>=0.15 (from simple-parsing->-r requirements.txt (line 2))\n",
      "  Downloading docstring_parser-0.17.0-py3-none-any.whl.metadata (3.5 kB)\n",
      "Requirement already satisfied: typing-extensions>=4.5.0 in /home/nikita/uni/PROJECT_X/new_generation/venv/lib/python3.13/site-packages (from simple-parsing->-r requirements.txt (line 2)) (4.15.0)\n",
      "Collecting pydantic<3.0,>=2.7 (from mistral-common>=1.3.1->-r requirements.txt (line 4))\n",
      "  Downloading pydantic-2.11.9-py3-none-any.whl.metadata (68 kB)\n",
      "Requirement already satisfied: jsonschema>=4.21.1 in /home/nikita/uni/PROJECT_X/new_generation/venv/lib/python3.13/site-packages (from mistral-common>=1.3.1->-r requirements.txt (line 4)) (4.25.1)\n",
      "Collecting tiktoken>=0.7.0 (from mistral-common>=1.3.1->-r requirements.txt (line 4))\n",
      "  Downloading tiktoken-0.11.0-cp313-cp313-manylinux_2_17_x86_64.manylinux2014_x86_64.whl.metadata (6.7 kB)\n",
      "Collecting pillow>=10.3.0 (from mistral-common>=1.3.1->-r requirements.txt (line 4))\n",
      "  Downloading pillow-11.3.0-cp313-cp313-manylinux_2_27_x86_64.manylinux_2_28_x86_64.whl.metadata (9.0 kB)\n",
      "Requirement already satisfied: requests>=2.0.0 in /home/nikita/uni/PROJECT_X/new_generation/venv/lib/python3.13/site-packages (from mistral-common>=1.3.1->-r requirements.txt (line 4)) (2.32.5)\n",
      "Requirement already satisfied: numpy>=1.25 in /home/nikita/uni/PROJECT_X/new_generation/venv/lib/python3.13/site-packages (from mistral-common>=1.3.1->-r requirements.txt (line 4)) (2.3.3)\n",
      "Collecting pydantic-extra-types>=2.10.5 (from pydantic-extra-types[pycountry]>=2.10.5->mistral-common>=1.3.1->-r requirements.txt (line 4))\n",
      "  Downloading pydantic_extra_types-2.10.5-py3-none-any.whl.metadata (3.9 kB)\n",
      "Collecting annotated-types>=0.6.0 (from pydantic<3.0,>=2.7->mistral-common>=1.3.1->-r requirements.txt (line 4))\n",
      "  Downloading annotated_types-0.7.0-py3-none-any.whl.metadata (15 kB)\n",
      "Collecting pydantic-core==2.33.2 (from pydantic<3.0,>=2.7->mistral-common>=1.3.1->-r requirements.txt (line 4))\n",
      "  Downloading pydantic_core-2.33.2-cp313-cp313-manylinux_2_17_x86_64.manylinux2014_x86_64.whl.metadata (6.8 kB)\n",
      "Collecting typing-inspection>=0.4.0 (from pydantic<3.0,>=2.7->mistral-common>=1.3.1->-r requirements.txt (line 4))\n",
      "  Downloading typing_inspection-0.4.1-py3-none-any.whl.metadata (2.6 kB)\n",
      "Collecting absl-py>=0.4 (from tensorboard->-r requirements.txt (line 6))\n",
      "  Downloading absl_py-2.3.1-py3-none-any.whl.metadata (3.3 kB)\n",
      "Collecting grpcio>=1.48.2 (from tensorboard->-r requirements.txt (line 6))\n",
      "  Downloading grpcio-1.74.0-cp313-cp313-manylinux_2_17_x86_64.manylinux2014_x86_64.whl.metadata (3.8 kB)\n",
      "Collecting markdown>=2.6.8 (from tensorboard->-r requirements.txt (line 6))\n",
      "  Downloading markdown-3.9-py3-none-any.whl.metadata (5.1 kB)\n",
      "Requirement already satisfied: packaging in /home/nikita/uni/PROJECT_X/new_generation/venv/lib/python3.13/site-packages (from tensorboard->-r requirements.txt (line 6)) (25.0)\n",
      "Collecting protobuf!=4.24.0,>=3.19.6 (from tensorboard->-r requirements.txt (line 6))\n",
      "  Downloading protobuf-6.32.1-cp39-abi3-manylinux2014_x86_64.whl.metadata (593 bytes)\n",
      "Requirement already satisfied: setuptools>=41.0.0 in /home/nikita/uni/PROJECT_X/new_generation/venv/lib/python3.13/site-packages (from tensorboard->-r requirements.txt (line 6)) (80.9.0)\n",
      "Collecting tensorboard-data-server<0.8.0,>=0.7.0 (from tensorboard->-r requirements.txt (line 6))\n",
      "  Downloading tensorboard_data_server-0.7.2-py3-none-manylinux_2_31_x86_64.whl.metadata (1.1 kB)\n",
      "Collecting werkzeug>=1.0.1 (from tensorboard->-r requirements.txt (line 6))\n",
      "  Downloading werkzeug-3.1.3-py3-none-any.whl.metadata (3.7 kB)\n",
      "Requirement already satisfied: filelock in /home/nikita/uni/PROJECT_X/new_generation/venv/lib/python3.13/site-packages (from torch->-r requirements.txt (line 9)) (3.19.1)\n",
      "Requirement already satisfied: sympy>=1.13.3 in /home/nikita/uni/PROJECT_X/new_generation/venv/lib/python3.13/site-packages (from torch->-r requirements.txt (line 9)) (1.14.0)\n",
      "Requirement already satisfied: networkx in /home/nikita/uni/PROJECT_X/new_generation/venv/lib/python3.13/site-packages (from torch->-r requirements.txt (line 9)) (3.5)\n",
      "Requirement already satisfied: jinja2 in /home/nikita/uni/PROJECT_X/new_generation/venv/lib/python3.13/site-packages (from torch->-r requirements.txt (line 9)) (3.1.6)\n",
      "Requirement already satisfied: fsspec in /home/nikita/uni/PROJECT_X/new_generation/venv/lib/python3.13/site-packages (from torch->-r requirements.txt (line 9)) (2025.3.0)\n",
      "Requirement already satisfied: nvidia-cuda-nvrtc-cu12==12.8.93 in /home/nikita/uni/PROJECT_X/new_generation/venv/lib/python3.13/site-packages (from torch->-r requirements.txt (line 9)) (12.8.93)\n",
      "Requirement already satisfied: nvidia-cuda-runtime-cu12==12.8.90 in /home/nikita/uni/PROJECT_X/new_generation/venv/lib/python3.13/site-packages (from torch->-r requirements.txt (line 9)) (12.8.90)\n",
      "Requirement already satisfied: nvidia-cuda-cupti-cu12==12.8.90 in /home/nikita/uni/PROJECT_X/new_generation/venv/lib/python3.13/site-packages (from torch->-r requirements.txt (line 9)) (12.8.90)\n",
      "Requirement already satisfied: nvidia-cudnn-cu12==9.10.2.21 in /home/nikita/uni/PROJECT_X/new_generation/venv/lib/python3.13/site-packages (from torch->-r requirements.txt (line 9)) (9.10.2.21)\n",
      "Requirement already satisfied: nvidia-cublas-cu12==12.8.4.1 in /home/nikita/uni/PROJECT_X/new_generation/venv/lib/python3.13/site-packages (from torch->-r requirements.txt (line 9)) (12.8.4.1)\n",
      "Requirement already satisfied: nvidia-cufft-cu12==11.3.3.83 in /home/nikita/uni/PROJECT_X/new_generation/venv/lib/python3.13/site-packages (from torch->-r requirements.txt (line 9)) (11.3.3.83)\n",
      "Requirement already satisfied: nvidia-curand-cu12==10.3.9.90 in /home/nikita/uni/PROJECT_X/new_generation/venv/lib/python3.13/site-packages (from torch->-r requirements.txt (line 9)) (10.3.9.90)\n",
      "Requirement already satisfied: nvidia-cusolver-cu12==11.7.3.90 in /home/nikita/uni/PROJECT_X/new_generation/venv/lib/python3.13/site-packages (from torch->-r requirements.txt (line 9)) (11.7.3.90)\n",
      "Requirement already satisfied: nvidia-cusparse-cu12==12.5.8.93 in /home/nikita/uni/PROJECT_X/new_generation/venv/lib/python3.13/site-packages (from torch->-r requirements.txt (line 9)) (12.5.8.93)\n",
      "Requirement already satisfied: nvidia-cusparselt-cu12==0.7.1 in /home/nikita/uni/PROJECT_X/new_generation/venv/lib/python3.13/site-packages (from torch->-r requirements.txt (line 9)) (0.7.1)\n",
      "Requirement already satisfied: nvidia-nccl-cu12==2.27.3 in /home/nikita/uni/PROJECT_X/new_generation/venv/lib/python3.13/site-packages (from torch->-r requirements.txt (line 9)) (2.27.3)\n",
      "Requirement already satisfied: nvidia-nvtx-cu12==12.8.90 in /home/nikita/uni/PROJECT_X/new_generation/venv/lib/python3.13/site-packages (from torch->-r requirements.txt (line 9)) (12.8.90)\n",
      "Requirement already satisfied: nvidia-nvjitlink-cu12==12.8.93 in /home/nikita/uni/PROJECT_X/new_generation/venv/lib/python3.13/site-packages (from torch->-r requirements.txt (line 9)) (12.8.93)\n",
      "Requirement already satisfied: nvidia-cufile-cu12==1.13.1.3 in /home/nikita/uni/PROJECT_X/new_generation/venv/lib/python3.13/site-packages (from torch->-r requirements.txt (line 9)) (1.13.1.3)\n",
      "Requirement already satisfied: attrs>=22.2.0 in /home/nikita/uni/PROJECT_X/new_generation/venv/lib/python3.13/site-packages (from jsonschema>=4.21.1->mistral-common>=1.3.1->-r requirements.txt (line 4)) (25.3.0)\n",
      "Requirement already satisfied: jsonschema-specifications>=2023.03.6 in /home/nikita/uni/PROJECT_X/new_generation/venv/lib/python3.13/site-packages (from jsonschema>=4.21.1->mistral-common>=1.3.1->-r requirements.txt (line 4)) (2025.9.1)\n",
      "Requirement already satisfied: referencing>=0.28.4 in /home/nikita/uni/PROJECT_X/new_generation/venv/lib/python3.13/site-packages (from jsonschema>=4.21.1->mistral-common>=1.3.1->-r requirements.txt (line 4)) (0.36.2)\n",
      "Requirement already satisfied: rpds-py>=0.7.1 in /home/nikita/uni/PROJECT_X/new_generation/venv/lib/python3.13/site-packages (from jsonschema>=4.21.1->mistral-common>=1.3.1->-r requirements.txt (line 4)) (0.27.1)\n",
      "Collecting pycountry>=23 (from pydantic-extra-types[pycountry]>=2.10.5->mistral-common>=1.3.1->-r requirements.txt (line 4))\n",
      "  Downloading pycountry-24.6.1-py3-none-any.whl.metadata (12 kB)\n",
      "Requirement already satisfied: charset_normalizer<4,>=2 in /home/nikita/uni/PROJECT_X/new_generation/venv/lib/python3.13/site-packages (from requests>=2.0.0->mistral-common>=1.3.1->-r requirements.txt (line 4)) (3.4.3)\n",
      "Requirement already satisfied: idna<4,>=2.5 in /home/nikita/uni/PROJECT_X/new_generation/venv/lib/python3.13/site-packages (from requests>=2.0.0->mistral-common>=1.3.1->-r requirements.txt (line 4)) (3.10)\n",
      "Requirement already satisfied: urllib3<3,>=1.21.1 in /home/nikita/uni/PROJECT_X/new_generation/venv/lib/python3.13/site-packages (from requests>=2.0.0->mistral-common>=1.3.1->-r requirements.txt (line 4)) (2.5.0)\n",
      "Requirement already satisfied: certifi>=2017.4.17 in /home/nikita/uni/PROJECT_X/new_generation/venv/lib/python3.13/site-packages (from requests>=2.0.0->mistral-common>=1.3.1->-r requirements.txt (line 4)) (2025.8.3)\n",
      "Requirement already satisfied: mpmath<1.4,>=1.1.0 in /home/nikita/uni/PROJECT_X/new_generation/venv/lib/python3.13/site-packages (from sympy>=1.13.3->torch->-r requirements.txt (line 9)) (1.3.0)\n",
      "Requirement already satisfied: regex>=2022.1.18 in /home/nikita/uni/PROJECT_X/new_generation/venv/lib/python3.13/site-packages (from tiktoken>=0.7.0->mistral-common>=1.3.1->-r requirements.txt (line 4)) (2025.9.1)\n",
      "Requirement already satisfied: MarkupSafe>=2.1.1 in /home/nikita/uni/PROJECT_X/new_generation/venv/lib/python3.13/site-packages (from werkzeug>=1.0.1->tensorboard->-r requirements.txt (line 6)) (3.0.2)\n",
      "Downloading fire-0.7.1-py3-none-any.whl (115 kB)\n",
      "Downloading simple_parsing-0.1.7-py3-none-any.whl (112 kB)\n",
      "Downloading docstring_parser-0.17.0-py3-none-any.whl (36 kB)\n",
      "Downloading mistral_common-1.8.5-py3-none-any.whl (6.5 MB)\n",
      "\u001b[2K   \u001b[38;2;114;156;31m━━━━━━━━━━━━━━━━━━━━━━━━━━━━━━━━━━━━━━━━\u001b[0m \u001b[32m6.5/6.5 MB\u001b[0m \u001b[31m12.8 MB/s\u001b[0m  \u001b[33m0:00:00\u001b[0m \u001b[31m11.5 MB/s\u001b[0m eta \u001b[36m0:00:01\u001b[0m\n",
      "\u001b[?25hDownloading pydantic-2.11.9-py3-none-any.whl (444 kB)\n",
      "Downloading pydantic_core-2.33.2-cp313-cp313-manylinux_2_17_x86_64.manylinux2014_x86_64.whl (2.0 MB)\n",
      "\u001b[2K   \u001b[38;2;114;156;31m━━━━━━━━━━━━━━━━━━━━━━━━━━━━━━━━━━━━━━━━\u001b[0m \u001b[32m2.0/2.0 MB\u001b[0m \u001b[31m16.0 MB/s\u001b[0m  \u001b[33m0:00:00\u001b[0m\n",
      "\u001b[?25hDownloading tensorboard-2.20.0-py3-none-any.whl (5.5 MB)\n",
      "\u001b[2K   \u001b[38;2;114;156;31m━━━━━━━━━━━━━━━━━━━━━━━━━━━━━━━━━━━━━━━━\u001b[0m \u001b[32m5.5/5.5 MB\u001b[0m \u001b[31m16.9 MB/s\u001b[0m  \u001b[33m0:00:00\u001b[0m \u001b[31m18.0 MB/s\u001b[0m eta \u001b[36m0:00:01\u001b[0m\n",
      "\u001b[?25hDownloading tensorboard_data_server-0.7.2-py3-none-manylinux_2_31_x86_64.whl (6.6 MB)\n",
      "\u001b[2K   \u001b[38;2;114;156;31m━━━━━━━━━━━━━━━━━━━━━━━━━━━━━━━━━━━━━━━━\u001b[0m \u001b[32m6.6/6.6 MB\u001b[0m \u001b[31m17.1 MB/s\u001b[0m  \u001b[33m0:00:00\u001b[0m \u001b[31m17.6 MB/s\u001b[0m eta \u001b[36m0:00:01\u001b[0m\n",
      "\u001b[?25hDownloading xformers-0.0.32.post2-cp39-abi3-manylinux_2_28_x86_64.whl (117.2 MB)\n",
      "\u001b[2K   \u001b[38;2;114;156;31m━━━━━━━━━━━━━━━━━━━━━━━━━━━━━━━━━━━━━━━━\u001b[0m \u001b[32m117.2/117.2 MB\u001b[0m \u001b[31m16.9 MB/s\u001b[0m  \u001b[33m0:00:06\u001b[0m\u001b[0m eta \u001b[36m0:00:01\u001b[0m[36m0:00:01\u001b[0m\n",
      "\u001b[?25hDownloading absl_py-2.3.1-py3-none-any.whl (135 kB)\n",
      "Downloading annotated_types-0.7.0-py3-none-any.whl (13 kB)\n",
      "Downloading grpcio-1.74.0-cp313-cp313-manylinux_2_17_x86_64.manylinux2014_x86_64.whl (6.2 MB)\n",
      "\u001b[2K   \u001b[38;2;114;156;31m━━━━━━━━━━━━━━━━━━━━━━━━━━━━━━━━━━━━━━━━\u001b[0m \u001b[32m6.2/6.2 MB\u001b[0m \u001b[31m16.0 MB/s\u001b[0m  \u001b[33m0:00:00\u001b[0m7.5 MB/s\u001b[0m eta \u001b[36m0:00:01\u001b[0m\n",
      "\u001b[?25hDownloading markdown-3.9-py3-none-any.whl (107 kB)\n",
      "Downloading pillow-11.3.0-cp313-cp313-manylinux_2_27_x86_64.manylinux_2_28_x86_64.whl (6.6 MB)\n",
      "\u001b[2K   \u001b[38;2;114;156;31m━━━━━━━━━━━━━━━━━━━━━━━━━━━━━━━━━━━━━━━━\u001b[0m \u001b[32m6.6/6.6 MB\u001b[0m \u001b[31m16.3 MB/s\u001b[0m  \u001b[33m0:00:00\u001b[0m \u001b[31m17.2 MB/s\u001b[0m eta \u001b[36m0:00:01\u001b[0m\n",
      "\u001b[?25hDownloading protobuf-6.32.1-cp39-abi3-manylinux2014_x86_64.whl (322 kB)\n",
      "Downloading pydantic_extra_types-2.10.5-py3-none-any.whl (38 kB)\n",
      "Downloading pycountry-24.6.1-py3-none-any.whl (6.3 MB)\n",
      "\u001b[2K   \u001b[38;2;114;156;31m━━━━━━━━━━━━━━━━━━━━━━━━━━━━━━━━━━━━━━━━\u001b[0m \u001b[32m6.3/6.3 MB\u001b[0m \u001b[31m16.3 MB/s\u001b[0m  \u001b[33m0:00:00\u001b[0m \u001b[31m17.3 MB/s\u001b[0m eta \u001b[36m0:00:01\u001b[0m\n",
      "\u001b[?25hDownloading tiktoken-0.11.0-cp313-cp313-manylinux_2_17_x86_64.manylinux2014_x86_64.whl (1.2 MB)\n",
      "\u001b[2K   \u001b[38;2;114;156;31m━━━━━━━━━━━━━━━━━━━━━━━━━━━━━━━━━━━━━━━━\u001b[0m \u001b[32m1.2/1.2 MB\u001b[0m \u001b[31m13.1 MB/s\u001b[0m  \u001b[33m0:00:00\u001b[0m\n",
      "\u001b[?25hDownloading typing_inspection-0.4.1-py3-none-any.whl (14 kB)\n",
      "Downloading werkzeug-3.1.3-py3-none-any.whl (224 kB)\n",
      "Downloading termcolor-3.1.0-py3-none-any.whl (7.7 kB)\n",
      "Installing collected packages: werkzeug, typing-inspection, termcolor, tensorboard-data-server, pydantic-core, pycountry, protobuf, pillow, markdown, grpcio, docstring-parser, annotated-types, absl-py, tiktoken, tensorboard, simple-parsing, pydantic, fire, pydantic-extra-types, xformers, mistral-common\n",
      "\u001b[2K   \u001b[38;2;114;156;31m━━━━━━━━━━━━━━━━━━━━━━━━━━━━━━━━━━━━━━━━\u001b[0m \u001b[32m21/21\u001b[0m [mistral-common][32m20/21\u001b[0m [mistral-common]ard]data-server]\n",
      "\u001b[1A\u001b[2KSuccessfully installed absl-py-2.3.1 annotated-types-0.7.0 docstring-parser-0.17.0 fire-0.7.1 grpcio-1.74.0 markdown-3.9 mistral-common-1.8.5 pillow-11.3.0 protobuf-6.32.1 pycountry-24.6.1 pydantic-2.11.9 pydantic-core-2.33.2 pydantic-extra-types-2.10.5 simple-parsing-0.1.7 tensorboard-2.20.0 tensorboard-data-server-0.7.2 termcolor-3.1.0 tiktoken-0.11.0 typing-inspection-0.4.1 werkzeug-3.1.3 xformers-0.0.32.post2\n"
     ]
    }
   ],
   "source": [
    "!cd mistral-finetune && pip install -r requirements.txt"
   ]
  },
  {
   "cell_type": "code",
   "execution_count": null,
   "id": "2803b3f8-7346-41d7-bfd5-dfb2186de62e",
   "metadata": {},
   "outputs": [],
   "source": []
  }
 ],
 "metadata": {
  "kernelspec": {
   "display_name": "Python 3 (ipykernel)",
   "language": "python",
   "name": "python3"
  },
  "language_info": {
   "codemirror_mode": {
    "name": "ipython",
    "version": 3
   },
   "file_extension": ".py",
   "mimetype": "text/x-python",
   "name": "python",
   "nbconvert_exporter": "python",
   "pygments_lexer": "ipython3",
   "version": "3.13.7"
  }
 },
 "nbformat": 4,
 "nbformat_minor": 5
}
